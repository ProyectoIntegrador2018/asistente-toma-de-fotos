{
 "cells": [
  {
   "cell_type": "code",
   "execution_count": 1,
   "metadata": {},
   "outputs": [],
   "source": [
    "import cv2\n",
    "import numpy as np"
   ]
  },
  {
   "cell_type": "code",
   "execution_count": 2,
   "metadata": {},
   "outputs": [],
   "source": [
    "def apply_threshold_to_img(img, threshold_type=\"binary\"):\n",
    "    if threshold_type == \"binary\":\n",
    "        _,img = cv2.threshold(img,150, 255,cv2.THRESH_BINARY)\n",
    "    elif threshold_type == \"adaptive_gaussian\":\n",
    "        img = cv2.adaptiveThreshold(img,255,cv2.ADAPTIVE_THRESH_GAUSSIAN_C, cv2.THRESH_BINARY,11,2)\n",
    "    return img"
   ]
  },
  {
   "cell_type": "code",
   "execution_count": 3,
   "metadata": {},
   "outputs": [],
   "source": [
    "image = cv2.imread(\"lado.jpeg\")"
   ]
  },
  {
   "cell_type": "code",
   "execution_count": 4,
   "metadata": {},
   "outputs": [],
   "source": [
    "gray = cv2.cvtColor(image, cv2.COLOR_BGR2GRAY)"
   ]
  },
  {
   "cell_type": "code",
   "execution_count": 14,
   "metadata": {},
   "outputs": [],
   "source": [
    "gray = cv2.bilateralFilter(gray, 30, 30, 30)\n",
    "\n",
    "gray = apply_threshold_to_img(gray, \"adaptive_gaussian\")\n",
    "\n",
    "gray = cv2.GaussianBlur(gray,(5,5),cv2.BORDER_DEFAULT)\n",
    "gray = cv2.GaussianBlur(gray,(5,5),cv2.BORDER_DEFAULT)\n",
    "gray = apply_threshold_to_img(gray, \"binary\")\n",
    "\n",
    "kernel = np.ones((2,2), np.uint8)\n",
    "gray = cv2.dilate(gray, kernel, iterations=1)\n",
    "\n",
    "gray = cv2.GaussianBlur(gray,(5,5),cv2.BORDER_DEFAULT)\n",
    "gray = apply_threshold_to_img(gray, \"adaptive_gaussian\")\n",
    "\n",
    "gray = cv2.dilate(gray, kernel, iterations=1)\n",
    "\n",
    "gray = cv2.GaussianBlur(gray,(5,5),cv2.BORDER_DEFAULT)\n",
    "gray = apply_threshold_to_img(gray, \"adaptive_gaussian\")\n",
    "\n",
    "gray = cv2.GaussianBlur(gray,(5,5),cv2.BORDER_DEFAULT)\n",
    "gray = apply_threshold_to_img(gray, \"adaptive_gaussian\")\n",
    "\n",
    "gray = cv2.GaussianBlur(gray,(5,5),cv2.BORDER_DEFAULT)\n",
    "gray = cv2.GaussianBlur(gray,(5,5),cv2.BORDER_DEFAULT)\n",
    "gray = cv2.GaussianBlur(gray,(5,5),cv2.BORDER_DEFAULT)\n",
    "\n",
    "gray = cv2.GaussianBlur(gray,(5,5),cv2.BORDER_DEFAULT)\n",
    "gray = cv2.GaussianBlur(gray,(5,5),cv2.BORDER_DEFAULT)\n",
    "gray = cv2.GaussianBlur(gray,(5,5),cv2.BORDER_DEFAULT)\n",
    "\n",
    "gray = apply_threshold_to_img(gray, \"binary\")\n",
    "\n",
    "high_thresh, thresh_im = cv2.threshold(gray, 0, 255, cv2.THRESH_BINARY + cv2.THRESH_OTSU)\n",
    "lowThresh = 0.5*high_thresh\n",
    "\n",
    "edged = cv2.morphologyEx(gray, cv2.MORPH_OPEN, kernel)\n",
    "\n",
    "edged = cv2.Canny(edged, lowThresh, high_thresh)\n",
    "\n",
    "edged = cv2.morphologyEx(edged, cv2.MORPH_CLOSE, (10,10))\n",
    "edged = cv2.morphologyEx(edged, cv2.MORPH_CLOSE, (10,10))\n",
    "edged = cv2.morphologyEx(edged, cv2.MORPH_CLOSE, (10,10))\n",
    "edged = cv2.morphologyEx(edged, cv2.MORPH_CLOSE, (10,10))"
   ]
  },
  {
   "cell_type": "code",
   "execution_count": 16,
   "metadata": {},
   "outputs": [
    {
     "data": {
      "image/png": "[encoded data removed]",
      "text/plain": [
       "<Figure size 432x288 with 1 Axes>"
      ]
     },
     "metadata": {
      "needs_background": "light"
     },
     "output_type": "display_data"
    }
   ],
   "source": [
    "from matplotlib import pyplot as plt\n",
    "plt.imshow(gray)\n",
    "plt.show()"
   ]
  },
  {
   "cell_type": "code",
   "execution_count": null,
   "metadata": {},
   "outputs": [],
   "source": []
  }
 ],
 "metadata": {
  "kernelspec": {
   "display_name": "Python 3",
   "language": "python",
   "name": "python3"
  },
  "language_info": {
   "codemirror_mode": {
    "name": "ipython",
    "version": 3
   },
   "file_extension": ".py",
   "mimetype": "text/x-python",
   "name": "python",
   "nbconvert_exporter": "python",
   "pygments_lexer": "ipython3",
   "version": "3.6.9"
  }
 },
 "nbformat": 4,
 "nbformat_minor": 2
}
